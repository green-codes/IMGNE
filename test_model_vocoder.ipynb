{
 "cells": [
  {
   "cell_type": "code",
   "execution_count": 1,
   "metadata": {},
   "outputs": [],
   "source": [
    "# %matplotlib notebook\n",
    "%matplotlib inline\n",
    "\n",
    "import numpy as np\n",
    "import matplotlib.pyplot as plt\n",
    "import torch, torchvision\n",
    "import torch.nn as nn\n",
    "import pickle\n",
    "import os\n",
    "\n",
    "if torch.cuda.is_available():\n",
    "    computing_device = torch.device(\"cuda\")\n",
    "else:\n",
    "    computing_device = torch.device(\"cpu\")"
   ]
  },
  {
   "cell_type": "code",
   "execution_count": 2,
   "metadata": {
    "scrolled": true
   },
   "outputs": [],
   "source": [
    "# # get paths to files\n",
    "\n",
    "# # train_files = ['data/MT8_8K.wav']\n",
    "# # train_files = ['data/02_8K.wav', 'data/03_8K.wav', 'data/04_8K.wav', 'data/05_8K.wav']\n",
    "# # val_files = ['data/01_8K.wav']\n",
    "\n",
    "# in_files=[]\n",
    "# for root, dirs, files in os.walk(\"data/shijin\"):\n",
    "#     for file in files:\n",
    "#         if file.endswith(\".wav\"):\n",
    "#             in_files += [root + '/' + file]\n",
    "# np.random.shuffle(in_files)"
   ]
  },
  {
   "cell_type": "code",
   "execution_count": 3,
   "metadata": {},
   "outputs": [
    {
     "name": "stdout",
     "output_type": "stream",
     "text": [
      "/imgne/maestro-v1.0.0/2017/MIDI-Unprocessed_066_PIANO066_MID--AUDIO-split_07-07-17_Piano-e_3-02_wav--3.wav\n"
     ]
    }
   ],
   "source": [
    "# import maestro\n",
    "import pandas as pd\n",
    "from sklearn.utils import shuffle \n",
    "\n",
    "maestro_root = \"/imgne/maestro-v1.0.0/\"\n",
    "\n",
    "meta_df_orig = pd.read_csv(maestro_root + \"maestro-v1.0.0.csv\")\n",
    "meta_df_orig[\"audio_filename\"] = meta_df_orig[\"audio_filename\"].apply(lambda x: maestro_root + x)\n",
    "meta_df = meta_df_orig[meta_df_orig[\"year\"] == 2017]\n",
    "\n",
    "shuffle(meta_df)\n",
    "\n",
    "train_files = meta_df[meta_df[\"split\"] == \"train\"][\"audio_filename\"].values\n",
    "val_files = meta_df[meta_df[\"split\"] == \"validation\"][\"audio_filename\"].values\n",
    "test_files = meta_df[meta_df[\"split\"] == \"test\"][\"audio_filename\"].values\n",
    "\n",
    "print(train_files[0])"
   ]
  },
  {
   "cell_type": "code",
   "execution_count": 4,
   "metadata": {
    "scrolled": true
   },
   "outputs": [],
   "source": [
    "from util import *\n",
    "\n",
    "chunk_size = 20\n",
    "window_size = 2048\n",
    "window_overlap = 1024\n",
    "batch_size = 8\n",
    "\n",
    "test_data_file = \"data/maestro2017_test_pv.pkl\"\n",
    "# test_files = ['data/05_8K.wav']#, 'data/02_8K.wav', 'data/03_8K.wav', 'data/04_8K.wav', 'data/05_8K.wav']\n",
    "# test_files = in_files\n",
    "\n",
    "if os.path.exists(test_data_file): \n",
    "    test_gen = pickle.load(open(test_data_file, 'rb'))\n",
    "else:\n",
    "    test_gen = DataGenerator(test_files, chunk_size, window_size, window_overlap, batch_size, vocoder=True)\n",
    "    pickle.dump(test_gen, open(test_data_file, 'wb'))"
   ]
  },
  {
   "cell_type": "code",
   "execution_count": 8,
   "metadata": {},
   "outputs": [],
   "source": [
    "# model setup\n",
    "\n",
    "from lstm import *\n",
    "\n",
    "input_dim = test_gen.X_list[0].shape[2] #TODO\n",
    "hidden_dim = 1024\n",
    "num_layers = 1\n",
    "\n",
    "# model = LSTMBasic(input_dim, hidden_dim, num_layers=num_layers, batch_size=batch_size)\n",
    "# model = LSTMFC(input_dim, hidden_dim, hidden_dim, num_layers=num_layers, batch_size=batch_size, dropout_p=0.2)\n",
    "model = LSTMCNN(input_dim, hidden_dim, num_layers=num_layers, batch_size=batch_size, decoder=\"2fc\", dropout_p=0.5)\n",
    "\n",
    "model = model.to(computing_device)\n",
    "criterion = nn.MSELoss().to(computing_device)\n",
    "dp = nn.DataParallel(model, dim=1).to(computing_device)\n",
    "m = dp.module\n",
    "optimizer = torch.optim.Adam(dp.parameters(), lr=0.001)"
   ]
  },
  {
   "cell_type": "code",
   "execution_count": 9,
   "metadata": {},
   "outputs": [
    {
     "name": "stdout",
     "output_type": "stream",
     "text": [
      "Using cuda\n"
     ]
    }
   ],
   "source": [
    "# trainer setup\n",
    "\n",
    "from lstm_trainer import *\n",
    "trainer = LSTMTrainer(dp, criterion, optimizer)"
   ]
  },
  {
   "cell_type": "code",
   "execution_count": 19,
   "metadata": {},
   "outputs": [
    {
     "name": "stdout",
     "output_type": "stream",
     "text": [
      "Loading model: models/pv_dropout/cs20_h1024_e200.ckpt\n"
     ]
    }
   ],
   "source": [
    "# load trained model? \n",
    "\n",
    "load_model = True\n",
    "\n",
    "if load_model:\n",
    "    epochs_trained = 200\n",
    "    model_file = \"models/pv_dropout/cs20_h1024_e{}.ckpt\".format(epochs_trained)\n",
    "#     model_file = \"models/cs20_h2048_e{}.ckpt\".format(epochs_trained)\n",
    "    print(\"Loading model: {}\".format(model_file))\n",
    "    trainer.load_model(model_file, epochs_trained)"
   ]
  },
  {
   "cell_type": "markdown",
   "metadata": {},
   "source": [
    "# misc. tests below"
   ]
  },
  {
   "cell_type": "code",
   "execution_count": 8,
   "metadata": {},
   "outputs": [
    {
     "ename": "Exception",
     "evalue": "STOP",
     "output_type": "error",
     "traceback": [
      "\u001b[0;31m---------------------------------------------------------------------------\u001b[0m",
      "\u001b[0;31mException\u001b[0m                                 Traceback (most recent call last)",
      "\u001b[0;32m<ipython-input-8-f8540e0e5451>\u001b[0m in \u001b[0;36m<module>\u001b[0;34m()\u001b[0m\n\u001b[0;32m----> 1\u001b[0;31m \u001b[0;32mraise\u001b[0m \u001b[0mException\u001b[0m\u001b[0;34m(\u001b[0m\u001b[0;34m\"STOP\"\u001b[0m\u001b[0;34m)\u001b[0m \u001b[0;31m# dirty way to stop the notebook\u001b[0m\u001b[0;34m\u001b[0m\u001b[0m\n\u001b[0m",
      "\u001b[0;31mException\u001b[0m: STOP"
     ]
    }
   ],
   "source": [
    "raise Exception(\"STOP\") # dirty way to stop the notebook"
   ]
  },
  {
   "cell_type": "code",
   "execution_count": 20,
   "metadata": {},
   "outputs": [
    {
     "name": "stdout",
     "output_type": "stream",
     "text": [
      "torch.Size([1180, 8, 2048])\n"
     ]
    }
   ],
   "source": [
    "test_gen.randomize_idx()\n",
    "fname, X, T = test_gen[0]\n",
    "print(X.shape)"
   ]
  },
  {
   "cell_type": "code",
   "execution_count": null,
   "metadata": {},
   "outputs": [
    {
     "name": "stderr",
     "output_type": "stream",
     "text": [
      "/usr/local/lib/python3.6/dist-packages/torch/nn/functional.py:1320: UserWarning: nn.functional.tanh is deprecated. Use torch.tanh instead.\n",
      "  warnings.warn(\"nn.functional.tanh is deprecated. Use torch.tanh instead.\")\n"
     ]
    },
    {
     "name": "stdout",
     "output_type": "stream",
     "text": [
      "67/100\r"
     ]
    }
   ],
   "source": [
    "eval_output, hidden_states, cell_states = trainer.eval_model(test_gen, prime_len=100, gen_len=100, mode=\"constrained\")"
   ]
  },
  {
   "cell_type": "code",
   "execution_count": null,
   "metadata": {},
   "outputs": [],
   "source": [
    "eo = torch.FloatTensor(eval_output)[:, 0]\n",
    "eo.shape"
   ]
  },
  {
   "cell_type": "code",
   "execution_count": null,
   "metadata": {},
   "outputs": [],
   "source": [
    "x = test_gen.reassemble_istft(eo[:, :1])"
   ]
  },
  {
   "cell_type": "code",
   "execution_count": null,
   "metadata": {
    "scrolled": true
   },
   "outputs": [],
   "source": [
    "import matplotlib.pyplot as plt\n",
    "\n",
    "fs = 8000\n",
    "\n",
    "plt.specgram(x, Fs=fs, NFFT=window_size, noverlap=window_overlap)\n",
    "plt.show()"
   ]
  },
  {
   "cell_type": "code",
   "execution_count": null,
   "metadata": {},
   "outputs": [],
   "source": [
    "from datetime import datetime\n",
    "if not os.path.exists(\"./outputs\"):\n",
    "    os.makedirs(\"./outputs\")\n",
    "wavfile.write(\"outputs/{}.wav\".format(datetime.now()), fs, x)"
   ]
  },
  {
   "cell_type": "code",
   "execution_count": null,
   "metadata": {},
   "outputs": [],
   "source": [
    "cell_states = np.array(cell_states)[:, 0, 0]\n",
    "hidden_states = np.array(hidden_states)[:, 0, 0]"
   ]
  },
  {
   "cell_type": "code",
   "execution_count": null,
   "metadata": {},
   "outputs": [],
   "source": [
    "plt.figure(figsize=(15,15))\n",
    "plt.imshow(eo[:,0].transpose(0,1), cmap='gray')\n",
    "plt.show()\n",
    "plt.figure(figsize=(15,15))\n",
    "plt.imshow(cell_states.transpose(), cmap='gray')\n",
    "plt.show()\n",
    "X.max()"
   ]
  },
  {
   "cell_type": "code",
   "execution_count": 38,
   "metadata": {},
   "outputs": [],
   "source": [
    "train_losses = []\n",
    "val_losses = []\n",
    "for i in range(1,400):\n",
    "    tl,vl = pickle.load(open(\"losses/cs20_h2048_e{}.loss.pkl\".format(i), 'rb'))\n",
    "    train_losses += [tl]\n",
    "    val_losses += [vl]"
   ]
  },
  {
   "cell_type": "code",
   "execution_count": 39,
   "metadata": {},
   "outputs": [],
   "source": [
    "train_losses = np.array(train_losses)\n",
    "val_losses = np.array(val_losses)"
   ]
  },
  {
   "cell_type": "code",
   "execution_count": 41,
   "metadata": {},
   "outputs": [
    {
     "data": {
      "image/png": "[encoded data removed]",
      "text/plain": [
       "<Figure size 432x288 with 1 Axes>"
      ]
     },
     "metadata": {},
     "output_type": "display_data"
    }
   ],
   "source": [
    "plt.plot(train_losses.mean(axis=1)[:])\n",
    "plt.plot(val_losses.mean(axis=1)[:])\n",
    "plt.ylim(0, 0.0000030)\n",
    "plt.show()"
   ]
  },
  {
   "cell_type": "code",
   "execution_count": null,
   "metadata": {},
   "outputs": [],
   "source": []
  }
 ],
 "metadata": {
  "kernelspec": {
   "display_name": "Python 3",
   "language": "python",
   "name": "python3"
  },
  "language_info": {
   "codemirror_mode": {
    "name": "ipython",
    "version": 3
   },
   "file_extension": ".py",
   "mimetype": "text/x-python",
   "name": "python",
   "nbconvert_exporter": "python",
   "pygments_lexer": "ipython3",
   "version": "3.6.3"
  }
 },
 "nbformat": 4,
 "nbformat_minor": 2
}
